{
 "cells": [
  {
   "cell_type": "code",
   "execution_count": 1,
   "id": "2f1931cc-d34b-4965-b9ca-c15e8bd62ceb",
   "metadata": {},
   "outputs": [
    {
     "name": "stdout",
     "output_type": "stream",
     "text": [
      "✅ Optimization Result:\n",
      "Produce 0.0 units of Product A\n",
      "Produce 60.0 units of Product B\n",
      "Maximum Profit: $1800.0\n",
      "⚠️ Consider rechecking constraints or resource usage to utilize both products.\n"
     ]
    }
   ],
   "source": [
    "# Task 4 - Optimization Model (CodTech Internship)\n",
    "# 📌 Goal: Maximize profit using Linear Programming with PuLP\n",
    "\n",
    "from pulp import LpMaximize, LpProblem, LpVariable, value\n",
    "\n",
    "# Step 1: Define the problem\n",
    "model = LpProblem(name=\"factory-production\", sense=LpMaximize)\n",
    "\n",
    "# Step 2: Define decision variables\n",
    "x = LpVariable(name=\"Product_A\", lowBound=0, cat=\"Integer\")  # Units of Product A\n",
    "y = LpVariable(name=\"Product_B\", lowBound=0, cat=\"Integer\")  # Units of Product B\n",
    "\n",
    "# Step 3: Define the objective function (profit)\n",
    "# Profit: $20 per unit of A, $30 per unit of B\n",
    "model += 20 * x + 30 * y, \"Total_Profit\"\n",
    "\n",
    "# Step 4: Add constraints\n",
    "# Machine Hours: A needs 3, B needs 4; Max available = 240\n",
    "model += (3 * x + 4 * y <= 240, \"Machine_Hours\")\n",
    "\n",
    "# Labor Hours: A needs 2, B needs 1; Max available = 100\n",
    "model += (2 * x + 1 * y <= 100, \"Labor_Hours\")\n",
    "\n",
    "# Step 5: Solve the problem\n",
    "model.solve()\n",
    "\n",
    "# Step 6: Output the results\n",
    "print(\"✅ Optimization Result:\")\n",
    "print(f\"Produce {x.value()} units of Product A\")\n",
    "print(f\"Produce {y.value()} units of Product B\")\n",
    "print(f\"Maximum Profit: ${value(model.objective)}\")\n",
    "\n",
    "# Step 7: Optional Insight\n",
    "if x.value() == 0 or y.value() == 0:\n",
    "    print(\"⚠️ Consider rechecking constraints or resource usage to utilize both products.\")\n"
   ]
  },
  {
   "cell_type": "code",
   "execution_count": null,
   "id": "d371f8c6-6ba0-40c7-909c-46ee35615bf4",
   "metadata": {},
   "outputs": [],
   "source": []
  }
 ],
 "metadata": {
  "kernelspec": {
   "display_name": "Python 3 (ipykernel)",
   "language": "python",
   "name": "python3"
  },
  "language_info": {
   "codemirror_mode": {
    "name": "ipython",
    "version": 3
   },
   "file_extension": ".py",
   "mimetype": "text/x-python",
   "name": "python",
   "nbconvert_exporter": "python",
   "pygments_lexer": "ipython3",
   "version": "3.12.4"
  }
 },
 "nbformat": 4,
 "nbformat_minor": 5
}
